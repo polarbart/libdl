{
 "cells": [
  {
   "cell_type": "code",
   "execution_count": 1,
   "metadata": {},
   "outputs": [],
   "source": [
    "import numpy as np\n",
    "import libdl as l\n",
    "import torch, torchvision\n",
    "from torch.utils.data import DataLoader\n",
    "np.random.seed(0)"
   ]
  },
  {
   "cell_type": "code",
   "execution_count": 2,
   "metadata": {},
   "outputs": [],
   "source": [
    "# A small helperfunction that instanciates my own tensors from a numpy array\n",
    "def from_numpy(a, requiresGrad=False):\n",
    "    a = np.array(a)\n",
    "    if len(a.shape) == 1:\n",
    "        return l.Tensor1(np.asfortranarray(a).astype(np.float32), requiresGrad)\n",
    "    elif len(a.shape) == 2:\n",
    "        return l.Tensor2(np.asfortranarray(a).astype(np.float32), requiresGrad)\n",
    "    elif len(a.shape) == 3:\n",
    "        return l.Tensor3(np.asfortranarray(a).astype(np.float32), requiresGrad)\n",
    "    elif len(a.shape) == 4:\n",
    "        return l.Tensor4(np.asfortranarray(a).astype(np.float32), requiresGrad)"
   ]
  },
  {
   "cell_type": "code",
   "execution_count": 3,
   "metadata": {},
   "outputs": [],
   "source": [
    "# hyperparameter\n",
    "lr = .1\n",
    "lr_decay = .99\n",
    "filter_size = 5\n",
    "hidden_units = [16, 32, 32]\n",
    "log_every = 500\n",
    "epochs = 10\n",
    "batch_size = 64"
   ]
  },
  {
   "cell_type": "code",
   "execution_count": 4,
   "metadata": {},
   "outputs": [],
   "source": [
    "train_loader = DataLoader(torchvision.datasets.MNIST('dataset/', train=True, download=True,\n",
    "                          transform=torchvision.transforms.Compose([\n",
    "                               torchvision.transforms.ToTensor(),\n",
    "                               torchvision.transforms.Normalize(\n",
    "                                 (0.1307,), (0.3081,))\n",
    "                             ])),\n",
    "  batch_size=batch_size, shuffle=False)\n",
    "\n",
    "test_loader = DataLoader(\n",
    "  torchvision.datasets.MNIST('dataset/', train=False, download=True,\n",
    "                             transform=torchvision.transforms.Compose([\n",
    "                               torchvision.transforms.ToTensor(),\n",
    "                               torchvision.transforms.Normalize(\n",
    "                                 (0.1307,), (0.3081,))\n",
    "                             ])),\n",
    "  batch_size=batch_size, shuffle=False)"
   ]
  },
  {
   "cell_type": "code",
   "execution_count": 5,
   "metadata": {},
   "outputs": [],
   "source": [
    "# weights and biases for the convolutional neural network\n",
    "F1 = from_numpy(np.random.normal(0, 1 / np.sqrt(filter_size * filter_size), (filter_size, filter_size, 1, hidden_units[0])), True)\n",
    "B1 = from_numpy(np.zeros(hidden_units[0]), True)\n",
    "F2 = from_numpy(np.random.normal(0, 1 / np.sqrt(hidden_units[0] * filter_size * filter_size), (filter_size, filter_size, hidden_units[0], hidden_units[1])), True)\n",
    "B2 = from_numpy(np.zeros(hidden_units[1]), True)\n",
    "\n",
    "W3 = from_numpy(np.random.normal(0, 1 / np.sqrt(25 * hidden_units[1]), (hidden_units[2], 25 * hidden_units[1])), True)\n",
    "B3 = from_numpy(np.zeros(hidden_units[2]), True)\n",
    "W4 = from_numpy(np.random.normal(0, 1 / np.sqrt(hidden_units[2]), (10, hidden_units[2])), True)\n",
    "B4 = from_numpy(np.zeros(10), True)\n",
    "parameters = [F1, B1, F2, B2, W3, B3, W4, B4]"
   ]
  },
  {
   "cell_type": "code",
   "execution_count": 6,
   "metadata": {},
   "outputs": [],
   "source": [
    "# forward pass\n",
    "def forward(x):\n",
    "    h1 = l.leakyRelu(l.maxpool2d(l.conv2d(x, F1, B1, int(filter_size / 2)), 2))\n",
    "    h2 = l.leakyRelu(l.maxpool2d(l.conv2d(h1, F2, B2, int(filter_size / 2)), 2))\n",
    "    h3 = l.leakyRelu(l.matmul(W3, l.reshape(h2, (25 * hidden_units[1], -1))) + B3)\n",
    "    return l.matmul(W4, h3) + B4"
   ]
  },
  {
   "cell_type": "code",
   "execution_count": 7,
   "metadata": {},
   "outputs": [
    {
     "name": "stdout",
     "output_type": "stream",
     "text": [
      "iteration | loss\n",
      "        0 | 2.6143\n",
      "        1 | 2.4228\n",
      "        2 | 2.4254\n",
      "        3 | 2.2341\n",
      "        4 | 2.2128\n",
      "        5 | 2.2251\n",
      "        6 | 2.1814\n",
      "        7 | 2.0718\n",
      "        8 | 2.0437\n",
      "        9 | 2.1114\n",
      "       10 | 2.0444\n",
      "       11 | 2.4280\n",
      "       12 | 2.0949\n",
      "       13 | 2.1333\n",
      "       14 | 2.0423\n",
      "       15 | 1.8629\n",
      "       16 | 1.9163\n",
      "       17 | 1.9972\n",
      "       18 | 1.7830\n",
      "       19 | 1.8194\n",
      "       20 | 1.7478\n",
      "       21 | 1.6707\n",
      "       22 | 1.8571\n",
      "       23 | 1.8995\n",
      "       24 | 1.8240\n",
      "       25 | 1.5974\n",
      "       26 | 1.3154\n",
      "       27 | 1.4736\n",
      "       28 | 1.9052\n",
      "       29 | 2.2353\n",
      "       30 | 2.0739\n"
     ]
    }
   ],
   "source": [
    "# training\n",
    "print(\"iteration | loss\")\n",
    "for i, (x, y) in enumerate(train_loader):\n",
    "    x = x.numpy()[:, :, 4:24, 4:24].transpose()\n",
    "    x = from_numpy(x)\n",
    "    y = y.numpy()\n",
    "    y = from_numpy(np.eye(10)[y].transpose())\n",
    "\n",
    "    yp = forward(x)\n",
    "    loss = l.crossEntropyWithLogits(yp, y)\n",
    "    \n",
    "    loss.backward()\n",
    "    for p in parameters:\n",
    "        p.applyGradient(lr)\n",
    "        g = p.grad() \n",
    "        g *= .5  # momentum\n",
    "    lr *= lr_decay\n",
    "    \n",
    "    print(f\"{i:9d} | {loss.numpy():.4f}\")\n",
    "    if i >= 30:\n",
    "        break"
   ]
  },
  {
   "cell_type": "code",
   "execution_count": 8,
   "metadata": {},
   "outputs": [
    {
     "name": "stdout",
     "output_type": "stream",
     "text": [
      "Test Accuracy: 45.88%\n"
     ]
    }
   ],
   "source": [
    "accs = []\n",
    "for i, (x, y) in enumerate(test_loader):\n",
    "    x = x.numpy()[:, :, 4:24, 4:24].transpose()\n",
    "    x = from_numpy(x)\n",
    "    y = y.numpy()\n",
    "\n",
    "    yp = forward(x).numpy().argmax(axis=0)\n",
    "    accs.append(np.mean(yp == y))\n",
    "    if i >= 10:\n",
    "        break\n",
    "\n",
    "print(f\"Test Accuracy: {np.mean(accs)*100:.2f}%\")"
   ]
  },
  {
   "cell_type": "code",
   "execution_count": null,
   "metadata": {},
   "outputs": [],
   "source": []
  }
 ],
 "metadata": {
  "kernelspec": {
   "display_name": "Python 3",
   "language": "python",
   "name": "python3"
  },
  "language_info": {
   "codemirror_mode": {
    "name": "ipython",
    "version": 3
   },
   "file_extension": ".py",
   "mimetype": "text/x-python",
   "name": "python",
   "nbconvert_exporter": "python",
   "pygments_lexer": "ipython3",
   "version": "3.7.3"
  }
 },
 "nbformat": 4,
 "nbformat_minor": 2
}
