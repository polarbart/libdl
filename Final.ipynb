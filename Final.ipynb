{
 "cells": [
  {
   "cell_type": "code",
   "execution_count": 1,
   "metadata": {},
   "outputs": [],
   "source": [
    "import numpy as np\n",
    "from pylibdl.data import DataLoader\n",
    "from pylibdl.optim import Adam\n",
    "from utils import DistractedDriver, MyResNet, validate\n",
    "from pylibdl import cross_entropy_with_logits\n",
    "import time\n",
    "np.random.seed(0)"
   ]
  },
  {
   "cell_type": "code",
   "execution_count": 2,
   "metadata": {},
   "outputs": [],
   "source": [
    "path = '/home/superbabes/Downloads/ddriver'\n",
    "batch_size = 64\n",
    "lr = 1e-4\n",
    "log_every = 10  # 10"
   ]
  },
  {
   "cell_type": "code",
   "execution_count": 3,
   "metadata": {},
   "outputs": [],
   "source": [
    "train_data = DistractedDriver(path, val=False)\n",
    "train_loader = DataLoader(train_data, batch_size, shuffle=True, drop_last=True)\n",
    "val_data = DistractedDriver(path, val=True)"
   ]
  },
  {
   "cell_type": "code",
   "execution_count": 4,
   "metadata": {},
   "outputs": [],
   "source": [
    "model = MyResNet()\n",
    "optim = Adam(model.parameter(), lr)"
   ]
  },
  {
   "cell_type": "code",
   "execution_count": 5,
   "metadata": {},
   "outputs": [
    {
     "name": "stdout",
     "output_type": "stream",
     "text": [
      "iteration | loss\n",
      "0         | 2.3026\n",
      "10        | 2.0798\n",
      "20        | 1.7576\n",
      "30        | 1.5485\n",
      "40        | 1.4815\n",
      "50        | 1.6666\n",
      "60        | 1.6329\n",
      "70        | 1.4992\n",
      "80        | 1.4835\n",
      "90        | 1.4169\n",
      "100       | 1.4509\n",
      "validation accuracy: 58.36%\n",
      "training took  256.37 seconds\n"
     ]
    }
   ],
   "source": [
    "begin = time.time()\n",
    "print('iteration | loss')\n",
    "for i, (imgs, labels) in enumerate(train_loader):\n",
    "    pred = model(imgs)\n",
    "    loss = cross_entropy_with_logits(pred, labels)\n",
    "    loss.backward()\n",
    "    optim.step()\n",
    "    optim.zero_grad()\n",
    "    if i % log_every == 0:\n",
    "        print(f'{i: <9} | {np.array(loss.data):.4f}')\n",
    "    if i >= 100:\n",
    "        break\n",
    "model.save('model')\n",
    "print(f'validation accuracy: {validate(model, val_data)*100:.2f}%')\n",
    "print(f'training took {time.time() - begin: .2f} seconds')"
   ]
  },
  {
   "cell_type": "code",
   "execution_count": null,
   "metadata": {},
   "outputs": [],
   "source": [
    "#training took  243.76 seconds\n",
    "#training took  231.65 seconds"
   ]
  }
 ],
 "metadata": {
  "kernelspec": {
   "display_name": "Python 3",
   "language": "python",
   "name": "python3"
  },
  "language_info": {
   "codemirror_mode": {
    "name": "ipython",
    "version": 3
   },
   "file_extension": ".py",
   "mimetype": "text/x-python",
   "name": "python",
   "nbconvert_exporter": "python",
   "pygments_lexer": "ipython3",
   "version": "3.7.3"
  }
 },
 "nbformat": 4,
 "nbformat_minor": 2
}
