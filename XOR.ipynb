{
 "cells": [
  {
   "cell_type": "code",
   "execution_count": 1,
   "metadata": {},
   "outputs": [],
   "source": [
    "import numpy as np\n",
    "import libdl as l\n",
    "np.random.seed(0)"
   ]
  },
  {
   "cell_type": "code",
   "execution_count": 2,
   "metadata": {},
   "outputs": [],
   "source": [
    "# A small helperfunction that instanciates my own tensors from a numpy array\n",
    "def from_numpy(a, requiresGrad=False):\n",
    "    a = np.array(a)\n",
    "    if len(a.shape) == 1:\n",
    "        return l.Tensor1(np.asfortranarray(a).astype(np.float32), requiresGrad)\n",
    "    elif len(a.shape) == 2:\n",
    "        return l.Tensor2(np.asfortranarray(a).astype(np.float32), requiresGrad)"
   ]
  },
  {
   "cell_type": "code",
   "execution_count": 3,
   "metadata": {},
   "outputs": [],
   "source": [
    "# the dataset\n",
    "x = from_numpy([[0, 0], [0, 1], [1, 0], [1, 1]])\n",
    "y = from_numpy([[0], [1], [1], [0]])"
   ]
  },
  {
   "cell_type": "code",
   "execution_count": 9,
   "metadata": {},
   "outputs": [],
   "source": [
    "# hyperparameter\n",
    "lr = .001\n",
    "lr_decay = .999\n",
    "hidden_neurons = 2\n",
    "log_every = 500\n",
    "epochs = 10"
   ]
  },
  {
   "cell_type": "code",
   "execution_count": 14,
   "metadata": {},
   "outputs": [],
   "source": [
    "# weights and biases for the neural network\n",
    "W1 = from_numpy(np.random.normal(0, 1 / 2, (2, hidden_neurons)), True)\n",
    "B1 = from_numpy(np.zeros(hidden_neurons), True)\n",
    "W2 = from_numpy(np.random.normal(0, 1 / hidden_neurons, (hidden_neurons, 1)), True)\n",
    "B2 = from_numpy([0], True)\n",
    "parameters = [W1, B1, W2, B2]"
   ]
  },
  {
   "cell_type": "code",
   "execution_count": 15,
   "metadata": {},
   "outputs": [],
   "source": [
    "# forward pass\n",
    "def forward(x):\n",
    "    h1 = l.sigmoid(l.matmul(x, W1) + B1)\n",
    "    return l.sigmoid(l.matmul(h1, W2) + B2)"
   ]
  },
  {
   "cell_type": "code",
   "execution_count": 16,
   "metadata": {},
   "outputs": [
    {
     "name": "stdout",
     "output_type": "stream",
     "text": [
      "epoch |  0^0 |  0^1 |  1^0 |  1^1 | loss\n",
      "    0 | 0.58 | 0.59 | 0.60 | 0.60 | 0.000000\n",
      "    1 | 0.39 | 0.39 | 0.40 | 0.40 | 0.000000\n",
      "    2 | 0.23 | 0.23 | 0.24 | 0.23 | 0.000000\n",
      "    3 | 0.15 | 0.14 | 0.15 | 0.14 | 0.000000\n",
      "    4 | 0.11 | 0.10 | 0.10 | 0.10 | 0.000000\n",
      "    5 | 0.08 | 0.08 | 0.08 | 0.07 | 0.000000\n",
      "    6 | 0.07 | 0.06 | 0.06 | 0.06 | 0.000000\n",
      "    7 | 0.05 | 0.05 | 0.05 | 0.05 | 0.000000\n",
      "    8 | 0.05 | 0.04 | 0.04 | 0.04 | 0.000000\n",
      "    9 | 0.04 | 0.04 | 0.04 | 0.03 | 0.000000\n"
     ]
    }
   ],
   "source": [
    "# training\n",
    "print(\"epoch |  0^0 |  0^1 |  1^0 |  1^1 | loss\")\n",
    "for epoch in range(epochs):\n",
    "    \n",
    "    yp = forward(x)\n",
    "    loss = l.mean((y - yp)**2) # mse\n",
    "    loss.backward()\n",
    "    \n",
    "    for p in parameters:\n",
    "        p.applyGradient(lr)\n",
    "        p.zeroGrad()\n",
    "    lr *= lr_decay\n",
    "    \n",
    "    if (epoch % log_every) == 0 or epoch == (epochs - 1):\n",
    "        print(\"{:5d} | {:.2f} | {:.2f} | {:.2f} | {:.2f} | {:.6f}\".format(epoch, *yp.numpy()[:, 0], loss.numpy()))"
   ]
  },
  {
   "cell_type": "code",
   "execution_count": null,
   "metadata": {},
   "outputs": [],
   "source": []
  }
 ],
 "metadata": {
  "kernelspec": {
   "display_name": "Python 3",
   "language": "python",
   "name": "python3"
  },
  "language_info": {
   "codemirror_mode": {
    "name": "ipython",
    "version": 3
   },
   "file_extension": ".py",
   "mimetype": "text/x-python",
   "name": "python",
   "nbconvert_exporter": "python",
   "pygments_lexer": "ipython3",
   "version": "3.7.3"
  }
 },
 "nbformat": 4,
 "nbformat_minor": 2
}
